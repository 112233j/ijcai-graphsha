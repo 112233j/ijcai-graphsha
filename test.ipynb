{
 "cells": [
  {
   "cell_type": "code",
   "execution_count": 19,
   "metadata": {},
   "outputs": [
    {
     "name": "stdout",
     "output_type": "stream",
     "text": [
      "GCN_bAcc: mean:86.638, std:0.1650939126679114\n",
      "GCN_f1: mean:75.654, std:0.6175305660451155\n",
      "GAT_bAcc: mean:84.178, std:0.5283710817219274\n",
      "GAT_f1: mean:71.13000000000001, std:1.1326605846413154\n",
      "SAGE_bAcc: mean:89.494, std:0.11586198686368343\n",
      "SAGE_f1: mean:77.596, std:0.9218589913864248\n"
     ]
    }
   ],
   "source": [
    "import re\n",
    "with open(\"1.txt\", \"r\", encoding='utf-8') as f:  #打开文本\n",
    "    data = f.read()   #读取文本\n",
    "    a = []\n",
    "    a = re.findall(r\"\\d+\\.\\d+\", data)  # 正则表达式\n",
    "    a = list(map(float,a))\n",
    "    a.insert(0,0)\n",
    "    # print(a)\n",
    "    # print(len(a))\n",
    "GCN_bAcc = []\n",
    "GCN_f1 = []\n",
    "GAT_bAcc = []\n",
    "GAT_f1 = []\n",
    "SAGE_bAcc = []\n",
    "SAGE_f1 = []\n",
    "for i in range(1,31,6):\n",
    "    GCN_bAcc.append(a[i])\n",
    "    GCN_f1.append(a[i+1])\n",
    "for i in range(3,31,6):\n",
    "    GAT_bAcc.append(a[i])\n",
    "    GAT_f1.append(a[i+1])\n",
    "for i in range(5,31,6):\n",
    "    SAGE_bAcc.append(a[i])\n",
    "    SAGE_f1.append(a[i+1])\n",
    "\n",
    "import numpy as np\n",
    "print(f'GCN_bAcc: mean:{np.mean(GCN_bAcc)}, std:{np.std(GCN_bAcc)}')\n",
    "print(f'GCN_f1: mean:{np.mean(GCN_f1)}, std:{np.std(GCN_f1)}')\n",
    "print(f'GAT_bAcc: mean:{np.mean(GAT_bAcc)}, std:{np.std(GAT_bAcc)}')\n",
    "print(f'GAT_f1: mean:{np.mean(GAT_f1)}, std:{np.std(GAT_f1)}')\n",
    "print(f'SAGE_bAcc: mean:{np.mean(SAGE_bAcc)}, std:{np.std(SAGE_bAcc)}')\n",
    "print(f'SAGE_f1: mean:{np.mean(SAGE_f1)}, std:{np.std(SAGE_f1)}')\n"
   ]
  },
  {
   "cell_type": "code",
   "execution_count": 20,
   "metadata": {},
   "outputs": [],
   "source": [
    "final_bACC = [1,2,3]\n",
    "final_f1 = [1,2,3]\n",
    "with open('result.txt', 'a') as f:\n",
    "    f.write(f'bacc: {np.mean(final_bACC)} $\\pm$ {np.std(final_bACC)}, f1: {np.mean(final_f1)} $\\pm$ {np.std(final_f1)} \\n')\n"
   ]
  },
  {
   "cell_type": "code",
   "execution_count": 32,
   "metadata": {},
   "outputs": [
    {
     "data": {
      "text/plain": [
       "[4]"
      ]
     },
     "execution_count": 32,
     "metadata": {},
     "output_type": "execute_result"
    }
   ],
   "source": [
    "import torch\n",
    "\n",
    "a = torch.tensor([0.1383, 0.1423, 0.1375, 0.0000, 0.1440, 0.1407, 0.1382])\n",
    "torch.multinomial(a + 1e-12, 1).tolist()"
   ]
  },
  {
   "cell_type": "code",
   "execution_count": 34,
   "metadata": {},
   "outputs": [
    {
     "data": {
      "text/plain": [
       "[4]"
      ]
     },
     "execution_count": 34,
     "metadata": {},
     "output_type": "execute_result"
    }
   ],
   "source": [
    "a = 4\n",
    "b = [4]\n",
    "b"
   ]
  }
 ],
 "metadata": {
  "kernelspec": {
   "display_name": "ijcai",
   "language": "python",
   "name": "python3"
  },
  "language_info": {
   "codemirror_mode": {
    "name": "ipython",
    "version": 3
   },
   "file_extension": ".py",
   "mimetype": "text/x-python",
   "name": "python",
   "nbconvert_exporter": "python",
   "pygments_lexer": "ipython3",
   "version": "3.8.13"
  }
 },
 "nbformat": 4,
 "nbformat_minor": 2
}
